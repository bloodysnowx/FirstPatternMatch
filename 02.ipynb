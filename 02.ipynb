{
 "cells": [
  {
   "cell_type": "markdown",
   "metadata": {},
   "source": [
    "# 2. 識別規則と学習法の概要\n",
    "\n",
    "### 学習データ\n",
    "\n",
    "ラベルと特徴ベクトルのセット\n",
    "\n",
    "ex. 色々な100円硬貨の特徴ベクトル(重さ, 透磁率, サイズ, ...)\n",
    "\n",
    "### 汎化能力\n",
    "\n",
    "学習時に与えられた訓練データだけでなく、未知の新たなデータに対する識別能力"
   ]
  },
  {
   "cell_type": "markdown",
   "metadata": {},
   "source": [
    "## 2.1 識別規則と学習法の分類\n",
    "\n",
    "識別規則とその学習法を分類し、それらの概要について紹介する"
   ]
  },
  {
   "cell_type": "markdown",
   "metadata": {},
   "source": [
    "### 2.1.1 識別規則の構成法\n",
    "\n",
    "識別規則は、入力データ$x$からクラス$C_i \\in \\Omega = { C_1, ... , C_K }$への写像である。\n",
    "\n",
    "写像の実現方法は\n",
    "\n",
    "1. 事後確率による方法: パターン空間に確率分布を仮定し、事後確率が最大のクラスに分類する。ベイズの最大事後確率法が代表例である。\n",
    "2. 距離による方法: 入力ベクトル$x$と各クラスの代表ベクトルとの距離を計算し、一番近い代表ベクトルのクラスに分類する。最近傍法が代表例である。\n",
    "3. 関数値による方法: 関数$f(x)$の正負、あるいは最大値でクラスを決める。パーセプトロン型学習回路やサポートベクトルマシンがその代表例である。$f(x)$を識別関数という\n",
    "4. 決定木による方法: 識別規則の真偽に応じて次の識別規則を順次適用し、決定木の形でクラスを決める。\n",
    "\n",
    "など"
   ]
  },
  {
   "cell_type": "markdown",
   "metadata": {},
   "source": [
    "### 2.1.2 教師付き学習\n",
    "\n",
    "識別規則は、入力データ(特徴ベクトル)からクラスへの写像を$y = f(x)$という関数を用いて表現する\n",
    "\n",
    "識別規則の学習は$f$を学習データを用いて決めること"
   ]
  },
  {
   "cell_type": "markdown",
   "metadata": {},
   "source": [
    "### 2.1.3 教師付き学習と線形回帰"
   ]
  },
  {
   "cell_type": "markdown",
   "metadata": {},
   "source": [
    "### 2.1.4 教師なし学習"
   ]
  },
  {
   "cell_type": "markdown",
   "metadata": {},
   "source": [
    "## 2.2 汎化能力"
   ]
  },
  {
   "cell_type": "markdown",
   "metadata": {},
   "source": [
    "### 2.2.1 学習データとテストデータの作り方"
   ]
  },
  {
   "cell_type": "markdown",
   "metadata": {},
   "source": [
    "### 2.2.2 汎化能力の評価法とモデル選択"
   ]
  },
  {
   "cell_type": "code",
   "execution_count": null,
   "metadata": {
    "collapsed": true
   },
   "outputs": [],
   "source": []
  }
 ],
 "metadata": {
  "kernelspec": {
   "display_name": "Python 3",
   "language": "python",
   "name": "python3"
  },
  "language_info": {
   "codemirror_mode": {
    "name": "ipython",
    "version": 3
   },
   "file_extension": ".py",
   "mimetype": "text/x-python",
   "name": "python",
   "nbconvert_exporter": "python",
   "pygments_lexer": "ipython3",
   "version": "3.6.0"
  }
 },
 "nbformat": 4,
 "nbformat_minor": 2
}
